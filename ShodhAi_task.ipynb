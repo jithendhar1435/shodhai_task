{
  "nbformat": 4,
  "nbformat_minor": 0,
  "metadata": {
    "colab": {
      "provenance": []
    },
    "kernelspec": {
      "name": "python3",
      "display_name": "Python 3"
    },
    "language_info": {
      "name": "python"
    }
  },
  "cells": [
    {
      "cell_type": "code",
      "execution_count": 11,
      "metadata": {
        "colab": {
          "base_uri": "https://localhost:8080/"
        },
        "id": "gmqVns8RgRnS",
        "outputId": "c6974d1b-51f4-4230-fcbd-5ea2c40860ce"
      },
      "outputs": [
        {
          "output_type": "stream",
          "name": "stdout",
          "text": [
            "Epoch [1000/10000], Loss: 0.1397\n",
            "Epoch [2000/10000], Loss: 0.0769\n",
            "Epoch [3000/10000], Loss: 0.0337\n",
            "Epoch [4000/10000], Loss: 0.0167\n",
            "Epoch [5000/10000], Loss: 0.0099\n",
            "Epoch [6000/10000], Loss: 0.0067\n",
            "Epoch [7000/10000], Loss: 0.0049\n",
            "Epoch [8000/10000], Loss: 0.0038\n",
            "Epoch [9000/10000], Loss: 0.0031\n",
            "Epoch [10000/10000], Loss: 0.0026\n",
            "Predictions: [0. 0. 0. 1.]\n",
            "True Labels: [0. 0. 0. 1.]\n"
          ]
        }
      ],
      "source": [
        "import torch\n",
        "import torch.nn as nn\n",
        "import torch.optim as optim\n",
        "import matplotlib.pyplot as plt\n",
        "\n",
        "\n",
        "X = torch.tensor([[0, 0], [0, 1], [1, 0], [1, 1]], dtype=torch.float32)\n",
        "Y = torch.tensor([[0], [0], [0], [1]], dtype=torch.float32)\n",
        "\n",
        "\n",
        "class ANDGateNN(nn.Module):\n",
        "    def __init__(self):\n",
        "        super(ANDGateNN, self).__init__()\n",
        "        self.layer1 = nn.Linear(2, 2)\n",
        "        self.layer2 = nn.Linear(2, 1)\n",
        "\n",
        "    def forward(self, x):\n",
        "        x = torch.sigmoid(self.layer1(x))\n",
        "        x = torch.sigmoid(self.layer2(x))\n",
        "        return x\n",
        "\n",
        "model = ANDGateNN()\n",
        "criterion = nn.MSELoss()\n",
        "optimizer = optim.SGD(model.parameters(), lr=0.1)\n",
        "\n",
        "epochs = 10000\n",
        "for epoch in range(epochs):\n",
        "    model.train()\n",
        "    optimizer.zero_grad()\n",
        "    outputs = model(X)\n",
        "    loss = criterion(outputs, Y)\n",
        "    loss.backward()\n",
        "    optimizer.step()\n",
        "    if (epoch+1) % 1000 == 0:\n",
        "        print(f'Epoch [{epoch+1}/{epochs}], Loss: {loss.item():.4f}')\n",
        "\n",
        "\n",
        "model.eval()\n",
        "with torch.no_grad():\n",
        "    predictions = model(X).round()\n",
        "    print(f'Predictions: {predictions.numpy().flatten()}')\n",
        "    print(f'True Labels: {Y.numpy().flatten()}')\n"
      ]
    },
    {
      "cell_type": "code",
      "source": [
        "import numpy as np\n",
        "\n",
        "\n",
        "def plot_decision_boundary(model, X, Y):\n",
        "    x_min, x_max = X[:, 0].min() - 1, X[:, 0].max() + 1\n",
        "    y_min, y_max = X[:, 1].min() - 1, X[:, 1].max() + 1\n",
        "    xx, yy = np.meshgrid(np.arange(x_min, x_max, 0.01),\n",
        "                         np.arange(y_min, y_max, 0.01))\n",
        "    Z = model(torch.tensor(np.c_[xx.ravel(), yy.ravel()], dtype=torch.float32))\n",
        "    Z = Z.view(xx.shape).detach().numpy()\n",
        "    plt.contourf(xx, yy, Z, alpha=0.8, cmap=plt.cm.Spectral)\n",
        "    plt.scatter(X[:, 0], X[:, 1], c=Y.flatten(), s=40, edgecolor='k')\n",
        "    plt.title(\"Decision Boundary for AND Gate\")\n",
        "    plt.xlabel('Input 1')\n",
        "    plt.ylabel('Input 2')\n",
        "    plt.show()\n",
        "\n",
        "\n",
        "plot_decision_boundary(model, X.numpy(), Y.numpy())\n"
      ],
      "metadata": {
        "colab": {
          "base_uri": "https://localhost:8080/",
          "height": 472
        },
        "id": "Faeo19FGgqqd",
        "outputId": "d21ad289-af8b-4dbe-9635-08d646366c10"
      },
      "execution_count": 12,
      "outputs": [
        {
          "output_type": "display_data",
          "data": {
            "text/plain": [
              "<Figure size 640x480 with 1 Axes>"
            ],
            "image/png": "[encoded data removed]"
          },
          "metadata": {}
        }
      ]
    },
    {
      "cell_type": "code",
      "source": [
        "pip install openai"
      ],
      "metadata": {
        "colab": {
          "base_uri": "https://localhost:8080/"
        },
        "id": "41oGkrylh1Lt",
        "outputId": "ea18238e-5609-4566-ac17-20f9c6e6c0a2"
      },
      "execution_count": 13,
      "outputs": [
        {
          "output_type": "stream",
          "name": "stdout",
          "text": [
            "Requirement already satisfied: openai in /usr/local/lib/python3.10/dist-packages (1.33.0)\n",
            "Requirement already satisfied: anyio<5,>=3.5.0 in /usr/local/lib/python3.10/dist-packages (from openai) (3.7.1)\n",
            "Requirement already satisfied: distro<2,>=1.7.0 in /usr/lib/python3/dist-packages (from openai) (1.7.0)\n",
            "Requirement already satisfied: httpx<1,>=0.23.0 in /usr/local/lib/python3.10/dist-packages (from openai) (0.27.0)\n",
            "Requirement already satisfied: pydantic<3,>=1.9.0 in /usr/local/lib/python3.10/dist-packages (from openai) (2.7.3)\n",
            "Requirement already satisfied: sniffio in /usr/local/lib/python3.10/dist-packages (from openai) (1.3.1)\n",
            "Requirement already satisfied: tqdm>4 in /usr/local/lib/python3.10/dist-packages (from openai) (4.66.4)\n",
            "Requirement already satisfied: typing-extensions<5,>=4.7 in /usr/local/lib/python3.10/dist-packages (from openai) (4.12.1)\n",
            "Requirement already satisfied: idna>=2.8 in /usr/local/lib/python3.10/dist-packages (from anyio<5,>=3.5.0->openai) (3.7)\n",
            "Requirement already satisfied: exceptiongroup in /usr/local/lib/python3.10/dist-packages (from anyio<5,>=3.5.0->openai) (1.2.1)\n",
            "Requirement already satisfied: certifi in /usr/local/lib/python3.10/dist-packages (from httpx<1,>=0.23.0->openai) (2024.6.2)\n",
            "Requirement already satisfied: httpcore==1.* in /usr/local/lib/python3.10/dist-packages (from httpx<1,>=0.23.0->openai) (1.0.5)\n",
            "Requirement already satisfied: h11<0.15,>=0.13 in /usr/local/lib/python3.10/dist-packages (from httpcore==1.*->httpx<1,>=0.23.0->openai) (0.14.0)\n",
            "Requirement already satisfied: annotated-types>=0.4.0 in /usr/local/lib/python3.10/dist-packages (from pydantic<3,>=1.9.0->openai) (0.7.0)\n",
            "Requirement already satisfied: pydantic-core==2.18.4 in /usr/local/lib/python3.10/dist-packages (from pydantic<3,>=1.9.0->openai) (2.18.4)\n"
          ]
        }
      ]
    },
    {
      "cell_type": "code",
      "source": [
        "import re\n",
        "import csv\n",
        "\n",
        "def read_text_data(filename):\n",
        "    with open(filename, 'r', encoding='utf-8') as file:\n",
        "        text = file.read()\n",
        "    return text\n",
        "\n",
        "def extract_topics_and_questions(text):\n",
        "    # Use regular expressions to extract topics and questions\n",
        "    topics_and_questions = re.findall(r'<Topic:.*?>\\n(.*?)<QS:.*?>', text, re.DOTALL)\n",
        "    return topics_and_questions\n",
        "\n",
        "def generate_sales_conversations(topics_and_questions):\n",
        "    conversations = []\n",
        "    for topic_and_question in topics_and_questions:\n",
        "        # Split the topic_and_question string based on the first occurrence of newline\n",
        "        topic, question = topic_and_question.strip().split('\\n', 1)\n",
        "        salesman_response = f\"Regarding {topic.strip()}: {question.strip()}\"\n",
        "        user_response = \"Thank you for your information.\"\n",
        "        conversation = {\"Salesman\": salesman_response, \"User\": user_response}\n",
        "        conversations.append(conversation)\n",
        "    return conversations\n",
        "\n",
        "\n",
        "\n",
        "def write_to_csv(conversations, filename):\n",
        "    with open(filename, 'w', newline='', encoding='utf-8') as csvfile:\n",
        "        fieldnames = ['Salesman', 'User']\n",
        "        writer = csv.DictWriter(csvfile, fieldnames=fieldnames)\n",
        "        writer.writeheader()\n",
        "        for conversation in conversations:\n",
        "            writer.writerow(conversation)\n",
        "\n",
        "def main():\n",
        "    filename = 'users_sales_conversions.txt'\n",
        "    text_data = read_text_data(filename)\n",
        "    topics_and_questions = extract_topics_and_questions(text_data)\n",
        "    conversations = generate_sales_conversations(topics_and_questions)\n",
        "    write_to_csv(conversations, 'sales_conversations.csv')\n",
        "\n",
        "if __name__ == \"__main__\":\n",
        "    main()\n"
      ],
      "metadata": {
        "id": "MM8gZoTrhSH2"
      },
      "execution_count": 14,
      "outputs": []
    }
  ]
}